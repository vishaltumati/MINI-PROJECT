{
 "cells": [
  {
   "cell_type": "code",
   "execution_count": 3,
   "metadata": {},
   "outputs": [
    {
     "name": "stdout",
     "output_type": "stream",
     "text": [
      "Sorted List in Descending Order: [23, 10, 8, 7, 5, 4]\n"
     ]
    }
   ],
   "source": [
    "def descending_sort(arr):\n",
    "    n = len(arr)\n",
    "    i = 0\n",
    "    while i < n - 1:\n",
    "        j = 0\n",
    "        while j < n - 1:\n",
    "            if arr[j] < arr[j + 1]:  # Swap if the left element is smaller\n",
    "                arr[j], arr[j + 1] = arr[j + 1], arr[j]\n",
    "            j += 1\n",
    "        i += 1\n",
    "    return arr\n",
    "\n",
    "# Given list\n",
    "arr = [8, 10, 5, 4, 7, 23]\n",
    "sorted_arr = descending_sort(arr)\n",
    "print(\"Sorted List in Descending Order:\",sorted_arr)"
   ]
  }
 ],
 "metadata": {
  "kernelspec": {
   "display_name": "Python 3",
   "language": "python",
   "name": "python3"
  },
  "language_info": {
   "codemirror_mode": {
    "name": "ipython",
    "version": 3
   },
   "file_extension": ".py",
   "mimetype": "text/x-python",
   "name": "python",
   "nbconvert_exporter": "python",
   "pygments_lexer": "ipython3",
   "version": "3.10.10"
  }
 },
 "nbformat": 4,
 "nbformat_minor": 2
}
