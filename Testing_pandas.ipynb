{
  "nbformat": 4,
  "nbformat_minor": 0,
  "metadata": {
    "colab": {
      "provenance": [],
      "authorship_tag": "ABX9TyMDe16gDJs+xXgMydYsBpYb",
      "include_colab_link": true
    },
    "kernelspec": {
      "name": "python3",
      "display_name": "Python 3"
    },
    "language_info": {
      "name": "python"
    }
  },
  "cells": [
    {
      "cell_type": "markdown",
      "metadata": {
        "id": "view-in-github",
        "colab_type": "text"
      },
      "source": [
        "<a href=\"https://colab.research.google.com/github/vishaltumati/MINI-PROJECT/blob/main/Testing_pandas.ipynb\" target=\"_parent\"><img src=\"https://colab.research.google.com/assets/colab-badge.svg\" alt=\"Open In Colab\"/></a>"
      ]
    },
    {
      "cell_type": "code",
      "source": [
        "\n",
        "import pandas as pd\n",
        "from datetime import datetime\n",
        "\n",
        "# Sample Employee Dataset\n",
        "employee_data = {\n",
        "    \"Employee_ID\": [101, 102, 103, 104, 105, 106],\n",
        "    \"Name\": [\"Alice\", \"Bob\", \"Charlie\", \"David\", \"Eva\", \"Frank\"],\n",
        "    \"Department\": [\"HR\", \"IT\", \"IT\", \"Finance\", \"Finance\", \"HR\"],\n",
        "    \"Salary\": [60000, 80000, 95000, 72000, 88000, 67000],\n",
        "    \"Joining_Date\": [\"2019-06-15\", \"2021-03-10\", \"2018-09-20\", \"2022-07-01\", \"2017-11-05\", \"2020-01-15\"]\n",
        "}\n",
        "\n",
        "# 1. Load the dictionary into a Pandas DataFrame\n",
        "df = pd.DataFrame(employee_data)\n",
        "\n",
        "# Convert Joining_Date to datetime format\n",
        "df[\"Joining_Date\"] = pd.to_datetime(df[\"Joining_Date\"])\n",
        "\n",
        "# 2. Display names of employees who joined after January 1, 2020\n",
        "after_2020 = df[df[\"Joining_Date\"] > \"2020-01-01\"][\"Name\"]\n",
        "print(\"Employees who joined after Jan 1, 2020:\")\n",
        "print(after_2020)\n",
        "\n",
        "# 3. Calculate the average salary for each department\n",
        "avg_salary = df.groupby(\"Department\")[\"Salary\"].mean()\n",
        "print(\"\\nAverage Salary per Department:\")\n",
        "print(avg_salary)\n",
        "\n",
        "# 4. Identify the department with the highest average salary\n",
        "highest_avg_dept = avg_salary.idxmax()\n",
        "print(\"\\nDepartment with the highest average salary:\", highest_avg_dept)\n",
        "\n",
        "# 5. Add a column for Years_with_Company\n",
        "today = datetime.today()\n",
        "df[\"Years_with_Company\"] = df[\"Joining_Date\"].apply(lambda x: today.year - x.year - ((today.month, today.day) < (x.month, x.day)))\n",
        "\n",
        "# 6. Sort the DataFrame by Years_with_Company in descending order\n",
        "df_sorted = df.sort_values(by=\"Years_with_Company\", ascending=False)\n",
        "\n",
        "# 7. Save the updated DataFrame to a CSV file\n",
        "df_sorted.to_csv(\"updated_employees.csv\", index=False)\n",
        "\n",
        "print(\"\\nUpdated DataFrame has been saved as 'updated_employees.csv'.\")"
      ],
      "metadata": {
        "colab": {
          "base_uri": "https://localhost:8080/"
        },
        "id": "NqyATbx85H1Y",
        "outputId": "7f46d4ab-7e9a-455e-9e19-e22d37b654f4"
      },
      "execution_count": 5,
      "outputs": [
        {
          "output_type": "stream",
          "name": "stdout",
          "text": [
            "Employees who joined after Jan 1, 2020:\n",
            "1      Bob\n",
            "3    David\n",
            "5    Frank\n",
            "Name: Name, dtype: object\n",
            "\n",
            "Average Salary per Department:\n",
            "Department\n",
            "Finance    80000.0\n",
            "HR         63500.0\n",
            "IT         87500.0\n",
            "Name: Salary, dtype: float64\n",
            "\n",
            "Department with the highest average salary: IT\n",
            "\n",
            "Updated DataFrame has been saved as 'updated_employees.csv'.\n"
          ]
        }
      ]
    }
  ]
}