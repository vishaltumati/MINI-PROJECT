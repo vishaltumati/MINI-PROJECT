{
  "nbformat": 4,
  "nbformat_minor": 0,
  "metadata": {
    "colab": {
      "provenance": [],
      "authorship_tag": "ABX9TyNEkQgkwlO4GAZXK7RmUIag",
      "include_colab_link": true
    },
    "kernelspec": {
      "name": "python3",
      "display_name": "Python 3"
    },
    "language_info": {
      "name": "python"
    }
  },
  "cells": [
    {
      "cell_type": "markdown",
      "metadata": {
        "id": "view-in-github",
        "colab_type": "text"
      },
      "source": [
        "<a href=\"https://colab.research.google.com/github/vishaltumati/MINI-PROJECT/blob/main/CSV.ipynb\" target=\"_parent\"><img src=\"https://colab.research.google.com/assets/colab-badge.svg\" alt=\"Open In Colab\"/></a>"
      ]
    },
    {
      "cell_type": "code",
      "execution_count": 1,
      "metadata": {
        "colab": {
          "base_uri": "https://localhost:8080/"
        },
        "id": "WM-aM5z7hwiK",
        "outputId": "0a9afa25-dd95-47ea-db89-ffb63a9e952b"
      },
      "outputs": [
        {
          "output_type": "stream",
          "name": "stdout",
          "text": [
            "Guess a number between 0 and 10\n",
            "Enter your number: 5\n",
            "Your guess is not correct!!\n",
            "Enter your number: 10\n",
            "Your guess is not correct!!\n",
            "Enter your number: 6\n",
            "Your guess is not correct!!\n",
            "Enter your number: 7\n",
            "Your guess is correct!!\n"
          ]
        }
      ],
      "source": [
        "import random\n",
        "\n",
        "# Define the range for the guessing game\n",
        "a = 0\n",
        "b = 10\n",
        "\n",
        "# Generate a random number between a and b (inclusive)\n",
        "guessvalue = random.randint(a, b)\n",
        "\n",
        "# Inform the user about the guessing range\n",
        "print(f\"Guess a number between {a} and {b}\")\n",
        "\n",
        "# Initialize a variable to control the loop\n",
        "isvalue = True\n",
        "\n",
        "while isvalue:\n",
        "    # Prompt the user for input\n",
        "    answer = input(\"Enter your number: \")\n",
        "\n",
        "    # Check if the input is numeric\n",
        "    if answer.isnumeric():\n",
        "        answer = int(answer)  # Convert input to an integer\n",
        "\n",
        "        # Compare user's guess with the generated number\n",
        "        if guessvalue != answer:\n",
        "            print(\"Your guess is not correct!!\")\n",
        "        else:\n",
        "            print(\"Your guess is correct!!\")\n",
        "            isvalue = False  # Exit the loop if the guess is correct\n",
        "    else:\n",
        "        print(\"Please enter a valid number\")"
      ]
    }
  ]
}